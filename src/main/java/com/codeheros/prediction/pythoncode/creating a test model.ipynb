{
 "cells": [
  {
   "cell_type": "code",
   "execution_count": 2,
   "metadata": {},
   "outputs": [
    {
     "name": "stdout",
     "output_type": "stream",
     "text": [
      "Model training complete and saved as 'iris_knn_model.pkl'\n"
     ]
    }
   ],
   "source": [
    "import numpy as np\n",
    "import pandas as pd\n",
    "from sklearn.neighbors import KNeighborsClassifier\n",
    "from sklearn.model_selection import GridSearchCV\n",
    "import pickle\n",
    "\n",
    "# Load dataset\n",
    "iris = pd.read_csv('./iris.csv')\n",
    "\n",
    "# Drop the 'id' column\n",
    "iris.drop('id', axis=1, inplace=True)\n",
    "\n",
    "# Define features and target variable\n",
    "X = iris[['sepal_len', 'sepal_wd', 'petal_len', 'petal_wd']]\n",
    "y = iris['species']\n",
    "\n",
    "# Create a KNN model\n",
    "knn = KNeighborsClassifier()\n",
    "\n",
    "# Create a dictionary of all values we want to test for n_neighbors\n",
    "param_grid = {'n_neighbors': np.arange(2, 15)}\n",
    "\n",
    "# Use GridSearchCV to test all values for n_neighbors\n",
    "knn_gscv = GridSearchCV(knn, param_grid, cv=4)\n",
    "\n",
    "# Fit model to the entire dataset\n",
    "knn_gscv.fit(X, y)\n",
    "\n",
    "# Retrieve the best model with the best parameters\n",
    "best_knn = knn_gscv.best_estimator_\n",
    "\n",
    "# Save the model using pickle\n",
    "with open('iris_knn_model.pkl', 'wb') as model_file:\n",
    "    pickle.dump(best_knn, model_file)\n",
    "\n",
    "print(\"Model training complete and saved as 'iris_knn_model.pkl'\")\n"
   ]
  }
 ],
 "metadata": {
  "kernelspec": {
   "display_name": "Python 3",
   "language": "python",
   "name": "python3"
  },
  "language_info": {
   "codemirror_mode": {
    "name": "ipython",
    "version": 3
   },
   "file_extension": ".py",
   "mimetype": "text/x-python",
   "name": "python",
   "nbconvert_exporter": "python",
   "pygments_lexer": "ipython3",
   "version": "3.11.3"
  },
  "orig_nbformat": 4
 },
 "nbformat": 4,
 "nbformat_minor": 2
}
